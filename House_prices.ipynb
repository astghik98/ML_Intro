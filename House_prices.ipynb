{
 "cells": [
  {
   "cell_type": "code",
   "execution_count": 63,
   "metadata": {},
   "outputs": [],
   "source": [
    "import pandas as pd\n",
    "import numpy as np\n",
    "from sklearn import datasets, linear_model\n",
    "from sklearn.model_selection import train_test_split,KFold\n",
    "from matplotlib import pyplot as plt\n",
    "from sklearn.metrics import mean_squared_error\n",
    "from sklearn.linear_model import Ridge,Lasso\n"
   ]
  },
  {
   "cell_type": "code",
   "execution_count": 24,
   "metadata": {},
   "outputs": [
    {
     "name": "stdout",
     "output_type": "stream",
     "text": [
      "Test RMSE: 0.01885406775230216\n",
      "Train RMSE: 3.837592260971877e-10\n"
     ]
    }
   ],
   "source": [
    "data = pd.read_csv('data/houses_train.csv')\n",
    "y = data['price']\n",
    "data.drop(['url'],axis = 1,inplace = True) #url-y karevor info chi\n",
    "data.head()\n",
    "# qani vor textayin infon karevor e, anum em one hotencoding\n",
    "data = pd.get_dummies(data[['price', 'Unnamed: 0', 'condition','district','max_floor','street',\\\n",
    "                     'num_rooms','region','area','num_bathrooms','building_type','floor','ceiling_height']])\n",
    "X_train, X_test, y_train, y_test = train_test_split(data, y, test_size=0.2)\n",
    "lm = linear_model.LinearRegression()\n",
    "model = lm.fit(X_train, y_train)\n",
    "predictions = lm.predict(X_test)\n",
    "print ('Test RMSE:', np.sqrt(mean_squared_error(predictions, y_test)))\n",
    "print ('Train RMSE:', np.sqrt(mean_squared_error(lm.predict(X_train), y_train)))\n",
    "\n",
    "# train-i vra 10^(-10) asrijani a sxaly, \n",
    "# testi vra amevavaty 10^(-2) amen run aneluc tarber a, random state chem drel, tarber dzev a bajanum"
   ]
  },
  {
   "cell_type": "code",
   "execution_count": 38,
   "metadata": {},
   "outputs": [
    {
     "name": "stdout",
     "output_type": "stream",
     "text": [
      "1.9501023117193525e-05\n",
      "5.726704106312475e-11\n"
     ]
    }
   ],
   "source": [
    "# Kfold\n",
    "data = pd.read_csv('data/houses_train.csv')\n",
    "y = data['price']\n",
    "data.drop(['url'],axis = 1,inplace = True)\n",
    "kf = KFold(n_splits=10)\n",
    "data = pd.get_dummies(data[['price', 'Unnamed: 0', 'condition','district','max_floor','street',\\\n",
    "                     'num_rooms','region','area','num_bathrooms','building_type','floor','ceiling_height']])\n",
    "train_rmse = []\n",
    "test_rmse = []\n",
    "lm = linear_model.LinearRegression()\n",
    "for train_index, test_index in kf.split(data):\n",
    "    X_train, X_test = data.loc[train_index], data.loc[test_index]\n",
    "    y_train, y_test = y[train_index], y[test_index]\n",
    "    lm.fit(X_train,y_train)\n",
    "    predictions = lm.predict(X_test)\n",
    "    test_rmse.append(np.sqrt(mean_squared_error(predictions, y_test)))\n",
    "    train_rmse.append(np.sqrt(mean_squared_error(lm.predict(X_train), y_train)))\n",
    "#estegh amenavat rmse eghav 10^(-5) astijan\n",
    "print(np.mean(test_rmse))\n",
    "print(np.mean(train_rmse))"
   ]
  },
  {
   "cell_type": "markdown",
   "metadata": {},
   "source": [
    "# The best model (Ridge regression)"
   ]
  },
  {
   "cell_type": "code",
   "execution_count": 61,
   "metadata": {},
   "outputs": [
    {
     "name": "stdout",
     "output_type": "stream",
     "text": [
      "2.143297601918939e-09\n",
      "1.9459850301123156e-09\n"
     ]
    }
   ],
   "source": [
    "#Trying Ridge regresson\n",
    "data = pd.read_csv('data/houses_train.csv')\n",
    "y = data['price']\n",
    "data.drop(['url'],axis = 1,inplace = True)\n",
    "kf = KFold(n_splits=10)\n",
    "data = pd.get_dummies(data[['price', 'Unnamed: 0', 'condition','district','max_floor','street',\\\n",
    "                     'num_rooms','region','area','num_bathrooms','building_type','floor','ceiling_height']])\n",
    "train_rmse = []\n",
    "test_rmse = []\n",
    "lin_ridge = Ridge(alpha = 0.2)\n",
    "for train_index, test_index in kf.split(data):\n",
    "    X_train, X_test = data.loc[train_index], data.loc[test_index]\n",
    "    y_train, y_test = y[train_index], y[test_index]\n",
    "    lin_ridge.fit(X_train,y_train)\n",
    "    predictions = lin_ridge.predict(X_test)\n",
    "    test_rmse.append(np.sqrt(mean_squared_error(predictions, y_test)))\n",
    "    train_rmse.append(np.sqrt(mean_squared_error(lin_ridge.predict(X_train), y_train)))\n",
    "print(np.mean(test_rmse))\n",
    "print(np.mean(train_rmse))\n",
    "\n",
    "#testi mean squared errry avacav 10^(-9) asrijan e\n",
    "# alphayi mi qani arjeq popoxeci 1ic bardzr depqum skec vatanal ham trian ham testi hamar,\n",
    "# 1ic ijacnelu depqum lavacav,\n",
    "# QUESTION!!! 0.1 dnelu depqum traini vra errory dardzav 10^(-10) asrijani tiv, testi vra mnac 10^(-9) astijan\n",
    "# modely avel lavn a en dequm erb ham traini ham testi vra nuyn kargi tiva errory? te da kap chuni?"
   ]
  },
  {
   "cell_type": "code",
   "execution_count": 70,
   "metadata": {},
   "outputs": [
    {
     "name": "stdout",
     "output_type": "stream",
     "text": [
      "1.9480079892322213e-05\n",
      "1.9485677844092465e-05\n"
     ]
    }
   ],
   "source": [
    "#Trying Ridge regresson\n",
    "data = pd.read_csv('data/houses_train.csv')\n",
    "y = data['price']\n",
    "data.drop(['url'],axis = 1,inplace = True)\n",
    "kf = KFold(n_splits=10)\n",
    "data = pd.get_dummies(data[['price', 'Unnamed: 0', 'condition','district','max_floor','street',\\\n",
    "                     'num_rooms','region','area','num_bathrooms','building_type','floor','ceiling_height']])\n",
    "train_rmse = []\n",
    "test_rmse = []\n",
    "lin_lasso = Lasso()\n",
    "for train_index, test_index in kf.split(data):\n",
    "    X_train, X_test = data.loc[train_index], data.loc[test_index]\n",
    "    y_train, y_test = y[train_index], y[test_index]\n",
    "    lin_lasso.fit(X_train,y_train)\n",
    "    predictions = lin_lasso.predict(X_test)\n",
    "    test_rmse.append(np.sqrt(mean_squared_error(predictions, y_test)))\n",
    "    train_rmse.append(np.sqrt(mean_squared_error(lin_lasso.predict(X_train), y_train)))\n",
    "print(np.mean(test_rmse))\n",
    "print(np.mean(train_rmse))\n",
    "\n",
    "#errory 10^(-5) asrijani e, aysinqn RIdge-ov aveli lav e"
   ]
  },
  {
   "cell_type": "markdown",
   "metadata": {},
   "source": [
    "## Amenalav resulty stacvec Ridge regression-ov"
   ]
  }
 ],
 "metadata": {
  "kernelspec": {
   "display_name": "Python 3",
   "language": "python",
   "name": "python3"
  },
  "language_info": {
   "codemirror_mode": {
    "name": "ipython",
    "version": 3
   },
   "file_extension": ".py",
   "mimetype": "text/x-python",
   "name": "python",
   "nbconvert_exporter": "python",
   "pygments_lexer": "ipython3",
   "version": "3.7.6"
  }
 },
 "nbformat": 4,
 "nbformat_minor": 4
}
