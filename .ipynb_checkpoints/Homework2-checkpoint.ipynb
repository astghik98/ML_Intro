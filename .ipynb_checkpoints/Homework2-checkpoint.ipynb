{
 "cells": [
  {
   "cell_type": "markdown",
   "metadata": {},
   "source": [
    "## ex. 1"
   ]
  },
  {
   "cell_type": "code",
   "execution_count": 5,
   "metadata": {},
   "outputs": [
    {
     "name": "stdout",
     "output_type": "stream",
     "text": [
      "no numbers given\n"
     ]
    }
   ],
   "source": [
    "def my_max(*args):\n",
    "    if len(args) != 0:\n",
    "        max_val = args[0]\n",
    "        for i in args:          \n",
    "            if i > max_val:\n",
    "                max_val = i\n",
    "        print(max_val)\n",
    "    else:\n",
    "        print(\"no numbers given\")\n",
    "my_max()"
   ]
  },
  {
   "cell_type": "markdown",
   "metadata": {},
   "source": [
    "## ex. 2"
   ]
  },
  {
   "cell_type": "code",
   "execution_count": 16,
   "metadata": {},
   "outputs": [
    {
     "data": {
      "text/plain": [
       "[1, 2, 3, 5]"
      ]
     },
     "execution_count": 16,
     "metadata": {},
     "output_type": "execute_result"
    }
   ],
   "source": [
    "def unique_list (list1 = list):\n",
    "    return list(set(list1))\n",
    "unique_list([1,2,2,1,3,3,5,5,5])"
   ]
  },
  {
   "cell_type": "markdown",
   "metadata": {},
   "source": [
    "## ex. 3"
   ]
  },
  {
   "cell_type": "code",
   "execution_count": 26,
   "metadata": {},
   "outputs": [
    {
     "data": {
      "text/plain": [
       "8"
      ]
     },
     "execution_count": 26,
     "metadata": {},
     "output_type": "execute_result"
    }
   ],
   "source": [
    "def my_fib(n):\n",
    "    list_fib = []\n",
    "    for i in range(n):\n",
    "        if i == 0 or  i == 1:\n",
    "            list_fib.append(1)\n",
    "        elif i >= 2:\n",
    "            list_fib.append(list_fib[i-1]+list_fib[i-2])\n",
    "    return list_fib [n-1]\n",
    "my_fib(6)"
   ]
  },
  {
   "cell_type": "markdown",
   "metadata": {},
   "source": [
    "## ex. 4"
   ]
  },
  {
   "cell_type": "code",
   "execution_count": 64,
   "metadata": {},
   "outputs": [
    {
     "name": "stdout",
     "output_type": "stream",
     "text": [
      "Welcome dear Ani\n",
      "My favourite number 21\n"
     ]
    },
    {
     "data": {
      "text/plain": [
       "'ast1256'"
      ]
     },
     "execution_count": 64,
     "metadata": {},
     "output_type": "execute_result"
    }
   ],
   "source": [
    "class Person:\n",
    "    def __init__(self, name, last_name,age,gender,student,password):\n",
    "        self.name = name       # public\n",
    "        self.last_name = last_name\n",
    "        self.age = age\n",
    "        self.gender = gender\n",
    "        self.student = student\n",
    "        self.__password = password\n",
    "        \n",
    "    def Greeting(self, second_person):\n",
    "        print(\"Welcome dear %s\" %second_person.name)\n",
    "        \n",
    "    def Goodbye(self):\n",
    "        print(\"Bye everyone!\")\n",
    "        \n",
    "    def Favourite_num(self,num1):\n",
    "        print(\"My favourite number %s\" %num1)\n",
    "    \n",
    "    def Read_file(self, filename):\n",
    "        file = filename + \".txt\"\n",
    "        open(file, mode='r')\n",
    "        \n",
    "    def set_code(self, password):\n",
    "        self.__password = password\n",
    "    \n",
    "    def get_code(self):\n",
    "        return self.__password\n",
    "Astghik = Person(\"Astgh\",\"Avagyan\",21,\"female\", True, \"jjbb513\")\n",
    "Ani = Person(\"Ani\",\"Avagyan\",2,\"female\", False, \"jjbb51113\")\n",
    "Astghik.Greeting(Ani)\n",
    "Astghik.Favourite_num(21)\n",
    "Astghik.Read_file(\"Aa\")\n",
    "Astghik.set_code(\"ast1256\")\n",
    "Astghik.get_code()"
   ]
  },
  {
   "cell_type": "markdown",
   "metadata": {},
   "source": [
    "## ex. 5"
   ]
  },
  {
   "cell_type": "code",
   "execution_count": 74,
   "metadata": {},
   "outputs": [
    {
     "name": "stdout",
     "output_type": "stream",
     "text": [
      "-4\n",
      "6\n",
      "14\n",
      "0.2857142857142857\n",
      "9\n"
     ]
    }
   ],
   "source": [
    "class Calculation:\n",
    "    def __init__(self, x, y):\n",
    "        self.x = x\n",
    "        self.y = y\n",
    "        \n",
    "    def addition(self):\n",
    "        print(self.x + self.y)\n",
    "        \n",
    "    def subtraction(self):\n",
    "        print(self.x - self.y)\n",
    "        \n",
    "class My_Calculation(Calculation):\n",
    "    def __init__(self, x, y):\n",
    "        self.x = x\n",
    "        self.y= y\n",
    "        \n",
    "    def multiplication(self):\n",
    "        print(self.x * self.y)\n",
    "        \n",
    "    def division(self):\n",
    "        print(self.x / self.y)\n",
    "a = Calculation(1,5)\n",
    "a.subtraction()\n",
    "a.addition()\n",
    "b = My_Calculation(2,7)\n",
    "b.multiplication()\n",
    "b.division()\n",
    "b.addition()"
   ]
  },
  {
   "cell_type": "code",
   "execution_count": null,
   "metadata": {},
   "outputs": [],
   "source": []
  }
 ],
 "metadata": {
  "kernelspec": {
   "display_name": "Python 3",
   "language": "python",
   "name": "python3"
  },
  "language_info": {
   "codemirror_mode": {
    "name": "ipython",
    "version": 3
   },
   "file_extension": ".py",
   "mimetype": "text/x-python",
   "name": "python",
   "nbconvert_exporter": "python",
   "pygments_lexer": "ipython3",
   "version": "3.7.6"
  }
 },
 "nbformat": 4,
 "nbformat_minor": 4
}
