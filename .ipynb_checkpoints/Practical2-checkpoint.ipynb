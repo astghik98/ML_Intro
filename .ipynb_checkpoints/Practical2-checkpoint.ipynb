{
 "cells": [
  {
   "cell_type": "markdown",
   "metadata": {},
   "source": [
    "## ex. 1"
   ]
  },
  {
   "cell_type": "code",
   "execution_count": 2,
   "metadata": {},
   "outputs": [
    {
     "data": {
      "text/plain": [
       "6.0"
      ]
     },
     "execution_count": 2,
     "metadata": {},
     "output_type": "execute_result"
    }
   ],
   "source": [
    "def average(a,b,c):\n",
    "    return (a+b+c)/3\n",
    "average(3,5,10)"
   ]
  },
  {
   "cell_type": "markdown",
   "metadata": {},
   "source": [
    "## ex. 2"
   ]
  },
  {
   "cell_type": "code",
   "execution_count": 10,
   "metadata": {},
   "outputs": [
    {
     "data": {
      "text/plain": [
       "4"
      ]
     },
     "execution_count": 10,
     "metadata": {},
     "output_type": "execute_result"
    }
   ],
   "source": [
    "def even(l):\n",
    "    return len([i for i in l if i%2 == 0])\n",
    "even([1,5,20,35,10,32,33,22])"
   ]
  },
  {
   "cell_type": "markdown",
   "metadata": {},
   "source": [
    "## ex. 3\n"
   ]
  },
  {
   "cell_type": "code",
   "execution_count": 42,
   "metadata": {},
   "outputs": [],
   "source": [
    "def aver(name,*args):\n",
    "    if len(args)>0:\n",
    "        print(\"%s, your average grade is: %s\" %(name, sum(args)/len(args)))\n",
    "    else:\n",
    "        print(\"No grades available for %s\" %name)"
   ]
  },
  {
   "cell_type": "code",
   "execution_count": 44,
   "metadata": {},
   "outputs": [
    {
     "name": "stdout",
     "output_type": "stream",
     "text": [
      "Bella, your average grade is: 1.5\n"
     ]
    }
   ],
   "source": [
    "aver(\"Bella\", 1,2)"
   ]
  },
  {
   "cell_type": "markdown",
   "metadata": {},
   "source": [
    "## ex. 4\n",
    "Create the class Circle with attributes radius and color . Inside your class, create the\n",
    "method getDesc(self) which should print the text “A color circle with radius radius .”,\n",
    "using the values of the corresponding attributes .\n",
    "Create class object(s) and test your class."
   ]
  },
  {
   "cell_type": "code",
   "execution_count": 56,
   "metadata": {},
   "outputs": [
    {
     "name": "stdout",
     "output_type": "stream",
     "text": [
      "A red circle with 5 radius\n"
     ]
    }
   ],
   "source": [
    "class Circle:\n",
    "    def __init__(self,radius,color):\n",
    "        self.radius = radius\n",
    "        self.color = color\n",
    "    def getDesc(self):\n",
    "        print(\"A %s circle with %s radius\" %(self.color,self.radius))      \n",
    "circle1 = Circle(5,\"red\")\n",
    "circle1.getDesc()"
   ]
  },
  {
   "cell_type": "markdown",
   "metadata": {},
   "source": [
    "## ex. 5\n",
    "Create the class Employee, which has the following attributes: name , last_name and a\n",
    "private attribute monthly_salary . Inside your class, create the method\n",
    "getFullName(self), which will return “ name last_name ”, using the values of the\n",
    "corresponding attributes. Create the method annualSalary(self) , which will calculate the\n",
    "annual salary of the employee, using the values of the corresponding attributes and will\n",
    "return “High” in case the salary is >100 and “Low”, otherwise.\n",
    "Create class object(s) and test your class."
   ]
  },
  {
   "cell_type": "code",
   "execution_count": 16,
   "metadata": {},
   "outputs": [
    {
     "data": {
      "text/plain": [
       "'Low'"
      ]
     },
     "execution_count": 16,
     "metadata": {},
     "output_type": "execute_result"
    }
   ],
   "source": [
    "class Employee:\n",
    "    def __init__(self,name,last_name,monthly_salary):\n",
    "        self.name = name\n",
    "        self.last_name = last_name\n",
    "        self.__monthly_salary = monthly_salary\n",
    "    def getFullName(self):\n",
    "        return self.name + \" \" + self.last_name\n",
    "    def annualSalary(self):\n",
    "        if (self.__monthly_salary * 12) > 100:\n",
    "            return \"High\"\n",
    "        else:\n",
    "            return \"Low\"\n",
    "        \n",
    "astghik = Employee(\"Astghik\",\"Avagyan\",5)\n",
    "astghik.getFullName()\n",
    "astghik.annualSalary()\n",
    "        "
   ]
  },
  {
   "cell_type": "markdown",
   "metadata": {},
   "source": [
    "## ex. 6\n",
    "Create the class Car with the following attributes: model , color and max_speed . Inside\n",
    "the class, create the method compareCar(self, car2) which gets an object of type Car\n",
    "as an argument and returns the text “car1 is better than car2” if the maxSpeed attribute\n",
    "of your car is larger than the maxSpeed attribute of car2 and returns the text “car2 is\n",
    "better than car1”՝ otherwise.\n",
    "Create class object(s) and test your class."
   ]
  },
  {
   "cell_type": "code",
   "execution_count": 9,
   "metadata": {},
   "outputs": [
    {
     "name": "stdout",
     "output_type": "stream",
     "text": [
      "car1 is better than car2\n"
     ]
    }
   ],
   "source": [
    "class Car:\n",
    "    def __init__(self,model,color,max_speed):\n",
    "        self.model = model\n",
    "        self.color = color\n",
    "        self.max_speed = max_speed\n",
    "    def compareCar(self, car2):\n",
    "        if (self.max_speed > car2.max_speed):\n",
    "            print(\"car1 is better than car2\")\n",
    "        else:\n",
    "            print(\"car2 is better than car1”\")\n",
    "car1 = Car(\"Ford\", \"blue\", 300)\n",
    "car2 = Car(\"Ferrari\", \"red\", 299)\n",
    "car1.compareCar(car2)"
   ]
  },
  {
   "cell_type": "markdown",
   "metadata": {},
   "source": [
    "## ex. 7"
   ]
  },
  {
   "cell_type": "code",
   "execution_count": 13,
   "metadata": {},
   "outputs": [
    {
     "name": "stdout",
     "output_type": "stream",
     "text": [
      "I can run really fast\n"
     ]
    }
   ],
   "source": [
    "class Animal:\n",
    "    def __init__(self,name):\n",
    "        self.name = name\n",
    "    def move(self):\n",
    "        print(\"I can move\")\n",
    "\n",
    "class Dog(Animal):\n",
    "    def __init__(self):\n",
    "        Animal.__init__ (self,\"Dog\")\n",
    "    def move(self):\n",
    "        print(\"I can run really fast\")\n",
    "Dog1 = Dog()\n",
    "Dog1.move()"
   ]
  },
  {
   "cell_type": "code",
   "execution_count": null,
   "metadata": {},
   "outputs": [],
   "source": []
  }
 ],
 "metadata": {
  "kernelspec": {
   "display_name": "Python 3",
   "language": "python",
   "name": "python3"
  },
  "language_info": {
   "codemirror_mode": {
    "name": "ipython",
    "version": 3
   },
   "file_extension": ".py",
   "mimetype": "text/x-python",
   "name": "python",
   "nbconvert_exporter": "python",
   "pygments_lexer": "ipython3",
   "version": "3.7.6"
  }
 },
 "nbformat": 4,
 "nbformat_minor": 4
}
