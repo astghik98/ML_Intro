{
 "cells": [
  {
   "cell_type": "code",
   "execution_count": 5,
   "metadata": {},
   "outputs": [],
   "source": [
    "import pandas as pd\n",
    "import numpy as np\n",
    "from sklearn import datasets, linear_model\n",
    "from sklearn.model_selection import train_test_split,KFold\n",
    "from matplotlib import pyplot as plt\n",
    "from sklearn.metrics import mean_squared_error"
   ]
  },
  {
   "cell_type": "code",
   "execution_count": 24,
   "metadata": {},
   "outputs": [
    {
     "name": "stdout",
     "output_type": "stream",
     "text": [
      "Test RMSE: 0.01885406775230216\n",
      "Train RMSE: 3.837592260971877e-10\n"
     ]
    }
   ],
   "source": [
    "data = pd.read_csv('data/houses_train.csv')\n",
    "y = data['price']\n",
    "data.drop(['url'],axis = 1,inplace = True) #url-y karevor info chi\n",
    "data.head()\n",
    "# qani vor textayin infon karevor e, anum em one hotencoding\n",
    "data = pd.get_dummies(data[['price', 'Unnamed: 0', 'condition','district','max_floor','street',\\\n",
    "                     'num_rooms','region','area','num_bathrooms','building_type','floor','ceiling_height']])\n",
    "X_train, X_test, y_train, y_test = train_test_split(data, y, test_size=0.2)\n",
    "lm = linear_model.LinearRegression()\n",
    "model = lm.fit(X_train, y_train)\n",
    "predictions = lm.predict(X_test)\n",
    "print ('Test RMSE:', np.sqrt(mean_squared_error(predictions, y_test)))\n",
    "print ('Train RMSE:', np.sqrt(mean_squared_error(lm.predict(X_train), y_train)))\n",
    "\n",
    "# train-i vra 10^(-10) asrijani a sxaly, \n",
    "# testi vra amevavaty 10^(-2) amen run aneluc tarber a, random state chem drel, tarber dzev a bajanum"
   ]
  },
  {
   "cell_type": "code",
   "execution_count": 25,
   "metadata": {},
   "outputs": [
    {
     "name": "stdout",
     "output_type": "stream",
     "text": [
      "Test RMSE: 1.7914229201698103e-11\n",
      "Train RMSE: 1.88703238372255e-11\n",
      "Test RMSE: 4.786376004557649e-05\n",
      "Train RMSE: 4.645322082097623e-11\n",
      "Test RMSE: 4.971002187402871e-11\n",
      "Train RMSE: 4.6093317505291137e-11\n",
      "Test RMSE: 5.5262323076090246e-11\n",
      "Train RMSE: 5.531876117176642e-11\n",
      "Test RMSE: 6.331776439714697e-11\n",
      "Train RMSE: 5.7675243162489293e-11\n",
      "Test RMSE: 5.939762212219756e-11\n",
      "Train RMSE: 6.053005923286739e-11\n",
      "Test RMSE: 9.490217025345716e-11\n",
      "Train RMSE: 9.526470453600379e-11\n",
      "Test RMSE: 9.432075764139612e-05\n",
      "Train RMSE: 3.410955168091267e-11\n",
      "Test RMSE: 6.335307949109734e-11\n",
      "Train RMSE: 5.967359780173782e-11\n",
      "Test RMSE: 5.282530962775226e-05\n",
      "Train RMSE: 9.868163088197726e-11\n"
     ]
    }
   ],
   "source": [
    "# Kfold\n",
    "data = pd.read_csv('data/houses_train.csv')\n",
    "y = data['price']\n",
    "data.drop(['url'],axis = 1,inplace = True) #url-y karevor info chi\n",
    "kf = KFold(n_splits=10)\n",
    "data = pd.get_dummies(data[['price', 'Unnamed: 0', 'condition','district','max_floor','street',\\\n",
    "                     'num_rooms','region','area','num_bathrooms','building_type','floor','ceiling_height']])\n",
    "train_rmse = []\n",
    "test_rmse = []\n",
    "lm = linear_model.LinearRegression()\n",
    "for train_index, test_index in kf.split(data):\n",
    "    X_train, X_test = data.loc[train_index], data.loc[test_index]\n",
    "    y_train, y_test = y[train_index], y[test_index]\n",
    "    model = lm.fit(X_train,y_train)\n",
    "    predictions = lm.predict(X_test)\n",
    "    print ('Test RMSE:', np.sqrt(mean_squared_error(predictions, y_test)))\n",
    "    print ('Train RMSE:', np.sqrt(mean_squared_error(lm.predict(X_train), y_train)))\n",
    "#estegh amenavat rmse eghav 10^(-5) astijan"
   ]
  },
  {
   "cell_type": "code",
   "execution_count": null,
   "metadata": {},
   "outputs": [],
   "source": []
  }
 ],
 "metadata": {
  "kernelspec": {
   "display_name": "Python 3",
   "language": "python",
   "name": "python3"
  },
  "language_info": {
   "codemirror_mode": {
    "name": "ipython",
    "version": 3
   },
   "file_extension": ".py",
   "mimetype": "text/x-python",
   "name": "python",
   "nbconvert_exporter": "python",
   "pygments_lexer": "ipython3",
   "version": "3.7.6"
  }
 },
 "nbformat": 4,
 "nbformat_minor": 4
}
