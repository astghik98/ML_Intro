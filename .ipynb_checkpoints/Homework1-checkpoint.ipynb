{
 "cells": [
  {
   "cell_type": "markdown",
   "metadata": {},
   "source": [
    "## ex. 1"
   ]
  },
  {
   "cell_type": "code",
   "execution_count": 18,
   "metadata": {},
   "outputs": [
    {
     "name": "stdout",
     "output_type": "stream",
     "text": [
      "5\n",
      "list1 = [1, 5, 1, 22, 11, 1, 0, 22, 36, 5, 5, 66] \n",
      "Number of 5s = 3\n"
     ]
    }
   ],
   "source": [
    "list1= [1,5,1,22,11,1,0,22,36,5,5,66]\n",
    "i = input()\n",
    "list1.count(int(i))\n",
    "print(\"list1 = %s \\nNumber of %ss = %d\" %(list1,i,list1.count(int(i))) )"
   ]
  },
  {
   "cell_type": "markdown",
   "metadata": {},
   "source": [
    "## ex.2"
   ]
  },
  {
   "cell_type": "code",
   "execution_count": 19,
   "metadata": {},
   "outputs": [
    {
     "name": "stdout",
     "output_type": "stream",
     "text": [
      "(1, 'Astghik', True, False, 'Hi', 2020)\n",
      "(1, 'Astghik', True, False, 'Hello', 2020)\n"
     ]
    }
   ],
   "source": [
    "t2 = (1,\"Astghik\",True,False, \"Hi\", 2020)\n",
    "print(t2)\n",
    "l2= list(t2)\n",
    "l2[4] = \"Hello\"\n",
    "t2 = tuple(l2)\n",
    "print(t2)"
   ]
  },
  {
   "cell_type": "markdown",
   "metadata": {},
   "source": [
    "## ex. 3"
   ]
  },
  {
   "cell_type": "code",
   "execution_count": 2,
   "metadata": {},
   "outputs": [
    {
     "name": "stdout",
     "output_type": "stream",
     "text": [
      "52\n",
      "{'name': 'Armen', 'age': 15, 'grades': [10, 8, 8, 4, 6, 7], 'weight': 52}\n"
     ]
    }
   ],
   "source": [
    "d = {\"name\": \"Armen\", \"age\": 15, \"grades\": [10, 8, 8, 4, 6, 7]}\n",
    "if \"weight\" not in d.keys():\n",
    "    n = input()\n",
    "    d[\"weight\"] = int(n)\n",
    "    print(d)\n",
    "else:\n",
    "    print(d[\"weight\"])"
   ]
  },
  {
   "cell_type": "markdown",
   "metadata": {},
   "source": [
    "## ex. 4"
   ]
  },
  {
   "cell_type": "code",
   "execution_count": 8,
   "metadata": {},
   "outputs": [
    {
     "name": "stdout",
     "output_type": "stream",
     "text": [
      "10\n",
      "12\n",
      "5\n",
      "That was a good guess!\n"
     ]
    }
   ],
   "source": [
    "correct_num = 5\n",
    "for i in range(10):\n",
    "    guess = input()\n",
    "    if int(guess) == correct_num:\n",
    "        print(\"That was a good guess!\")\n",
    "        break"
   ]
  },
  {
   "cell_type": "markdown",
   "metadata": {},
   "source": [
    "## ex. 5"
   ]
  },
  {
   "cell_type": "code",
   "execution_count": 32,
   "metadata": {},
   "outputs": [
    {
     "name": "stdout",
     "output_type": "stream",
     "text": [
      "2\n"
     ]
    }
   ],
   "source": [
    "list1 = ['a', 'abc', 'xyz', 's', 'aba','1221']\n",
    "list2 = []\n",
    "cnt = 0\n",
    "[list2.append(i) for i in list1 if (len(i)>2 and i[0] == i[-1])]\n",
    "print(len(list2))"
   ]
  },
  {
   "cell_type": "code",
   "execution_count": null,
   "metadata": {},
   "outputs": [],
   "source": []
  }
 ],
 "metadata": {
  "kernelspec": {
   "display_name": "Python 3",
   "language": "python",
   "name": "python3"
  },
  "language_info": {
   "codemirror_mode": {
    "name": "ipython",
    "version": 3
   },
   "file_extension": ".py",
   "mimetype": "text/x-python",
   "name": "python",
   "nbconvert_exporter": "python",
   "pygments_lexer": "ipython3",
   "version": "3.7.6"
  }
 },
 "nbformat": 4,
 "nbformat_minor": 4
}
